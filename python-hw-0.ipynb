{
 "cells": [
  {
   "attachments": {},
   "cell_type": "markdown",
   "metadata": {},
   "source": [
    "Напишите функцию, которая будет возвращать акроним по переданной в неё строке со словами.\n",
    "\n",
    "Примеры работы программы:\n",
    "some_words = 'Информационные технологии’\n",
    "Результат: ИТ\n",
    "\n",
    "some_words = 'Near Field Communication’\n",
    "Результат: NFC"
   ]
  },
  {
   "cell_type": "code",
   "execution_count": 1,
   "metadata": {},
   "outputs": [
    {
     "name": "stdout",
     "output_type": "stream",
     "text": [
      "ИТИВТП\n"
     ]
    }
   ],
   "source": [
    "import re\n",
    "\n",
    "def acronym(some_words):\n",
    "    return ''.join(re.findall(r'\\b\\w', some_words, flags=re.IGNORECASE)).upper()\n",
    "\n",
    "some_words = 'Информационные технологии и все такое прочее'\n",
    "print(acronym(some_words))"
   ]
  },
  {
   "cell_type": "code",
   "execution_count": 7,
   "metadata": {},
   "outputs": [
    {
     "name": "stdout",
     "output_type": "stream",
     "text": [
      "ИТ\n",
      "NFC\n"
     ]
    }
   ],
   "source": [
    "import re\n",
    " \n",
    "def acronym(some_words: str) -> str:\n",
    "  # используем метод sub и группировку\n",
    "   return re.sub(r\"(\\w)\\w+\\s?\", r\"\\1\", some_words).upper()\n",
    "\n",
    "\n",
    "if __name__ == '__main__':\n",
    "   print(acronym('Информационные технологии'))\n",
    "   print(acronym('Near Field Communication'))"
   ]
  },
  {
   "attachments": {},
   "cell_type": "markdown",
   "metadata": {},
   "source": [
    "Напишите функцию, которая будет принимать на вход список email-адресов и выводить их распределение по доменным зонам.\n",
    "\n",
    "Пример работы программы:\n",
    "emails = [‘test@gmail.com’, ‘xyz@test.in’, ‘test@ya.ru’, ‘xyz@mail.ru’, ‘xyz@ya.ru’, ‘xyz@gmail.com’]\n",
    "\n",
    "Результат:\n",
    "gmail.com: 2\n",
    "test.in: 1\n",
    "ya.ru: 2\n",
    "mail.ru: 1"
   ]
  },
  {
   "cell_type": "code",
   "execution_count": 8,
   "metadata": {},
   "outputs": [
    {
     "name": "stdout",
     "output_type": "stream",
     "text": [
      "gmail.com 2\n",
      "test.in 1\n",
      "ya.ru 2\n",
      "mail.ru 1\n"
     ]
    }
   ],
   "source": [
    "import re\n",
    " \n",
    "emails = ['test@gmail.com', 'xyz@test.in', 'test@ya.ru', 'xyz@mail.ru', 'xyz@ya.ru', 'xyz@gmail.com']\n",
    " \n",
    "def counting(emails: list) -> dict:\n",
    "    dic = {}\n",
    "    for i in re.findall(r\"(?<=@).+?(?=')\", str(emails)):\n",
    "        dic[i] = dic.setdefault(i, 0) + 1\n",
    "    return dic\n",
    " \n",
    "for k, v in counting(emails).items():\n",
    "    print(k, v)"
   ]
  },
  {
   "attachments": {},
   "cell_type": "markdown",
   "metadata": {},
   "source": [
    "Напишите функцию, которая будет подсчитывать, сколько слов начинается на гласные, а сколько на согласные буквы в тексте. Текст может быть написан с использованием букв как кириллицы, так и латиницы.\n",
    "\n",
    "Пример работы программы:\n",
    "some_text = ‘Эталонной реализацией Python является интерпретатор CPython, поддерживающий большинство активно используемых платформ. Он распространяется под свободной лицензией Python Software Foundation License, позволяющей использовать его без ограничений в любых приложениях, включая проприетарные.’\n",
    "\n",
    "Результат:\n",
    "Слов на гласные буквы: 9\n",
    "Слов на согласные буквы: 21"
   ]
  },
  {
   "cell_type": "code",
   "execution_count": 6,
   "metadata": {},
   "outputs": [
    {
     "name": "stdout",
     "output_type": "stream",
     "text": [
      "Слов на гласные буквы: 9 \n",
      "Слов на согласные буквы: 21\n"
     ]
    }
   ],
   "source": [
    "import re\n",
    " \n",
    "some_text = '''\n",
    "Эталонной реализацией Python является интерпретатор CPython, \n",
    "поддерживающий большинство активно используемых платформ. \n",
    "Он распространяется под свободной лицензией Python Software Foundation License, \n",
    "позволяющей использовать его без ограничений в любых приложениях, включая проприетарные.\n",
    "'''\n",
    "\n",
    "def vowel_cons(some_text: str) -> list:\n",
    "    vowels = len(re.findall(r'(?i)\\b[АЕЁИОУЫЭЮЯAEIOU]', some_text))\n",
    "    cons = len(re.findall(r'\\b\\w', some_text)) - vowels\n",
    "    return [vowels, cons]\n",
    " \n",
    "print('Слов на гласные буквы:', vowel_cons(some_text)[0], '\\nСлов на согласные буквы:', vowel_cons(some_text)[1])"
   ]
  }
 ],
 "metadata": {
  "kernelspec": {
   "display_name": "Python 3",
   "language": "python",
   "name": "python3"
  },
  "language_info": {
   "codemirror_mode": {
    "name": "ipython",
    "version": 3
   },
   "file_extension": ".py",
   "mimetype": "text/x-python",
   "name": "python",
   "nbconvert_exporter": "python",
   "pygments_lexer": "ipython3",
   "version": "3.8.9"
  },
  "orig_nbformat": 4,
  "vscode": {
   "interpreter": {
    "hash": "31f2aee4e71d21fbe5cf8b01ff0e069b9275f58929596ceb00d14d90e3e16cd6"
   }
  }
 },
 "nbformat": 4,
 "nbformat_minor": 2
}
