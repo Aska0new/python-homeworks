{
 "cells": [
  {
   "cell_type": "code",
   "execution_count": 1,
   "metadata": {},
   "outputs": [
    {
     "name": "stdout",
     "output_type": "stream",
     "text": [
      "281\n",
      "115\n",
      "0\n",
      "178.25\n",
      "[9999]\n"
     ]
    }
   ],
   "source": [
    "import pandas as pd\n",
    "\n",
    "\n",
    "clicks = [140, 228, 252, 261, 79, 2, 0, 26, 136, 148,\n",
    "          183, 102, 0, 0, 242, 105, 266, 147, 286, 7,\n",
    "          2, 183, 221, 9999, 31, 57, 0, 0, 100, 111,\n",
    "          188, 123, 253, 3, 0, 299, 100, 210, 264, 12,\n",
    "          0, 119, 0, 264, 124, 155, 0, 88, 147, 210,\n",
    "          104, 52, 165, 2, 1, 192, 162, 109, 186, 17]\n",
    "\n",
    "\n",
    "cl = pd.Series(clicks)\n",
    "\n",
    "\n",
    "mean = cl.mean()\n",
    "median = cl.median()\n",
    "mode = cl.mode()[0]\n",
    "disp = int(cl.var().round())\n",
    "q1 = cl.quantile(0.25)\n",
    "q3 = cl.quantile(0.75)\n",
    "iqr = q3 - q1\n",
    "lower_bound = q1 - (1.5 * iqr)\n",
    "upper_bound = q3 + (1.5 * iqr)\n",
    "outliers = [x for x in clicks if x < lower_bound or x > upper_bound]\n",
    "\n",
    "\n",
    "print(mean, median, mode, disp, iqr, outliers, sep='\\n')"
   ]
  }
 ],
 "metadata": {
  "kernelspec": {
   "display_name": "Python 3",
   "language": "python",
   "name": "python3"
  },
  "language_info": {
   "codemirror_mode": {
    "name": "ipython",
    "version": 3
   },
   "file_extension": ".py",
   "mimetype": "text/x-python",
   "name": "python",
   "nbconvert_exporter": "python",
   "pygments_lexer": "ipython3",
   "version": "3.8.9"
  },
  "orig_nbformat": 4
 },
 "nbformat": 4,
 "nbformat_minor": 2
}
