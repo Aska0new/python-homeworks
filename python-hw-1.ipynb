{
 "cells": [
  {
   "attachments": {},
   "cell_type": "markdown",
   "metadata": {},
   "source": [
    "#### Домашнее задание к лекции \"Основы Python\"\n",
    "\n",
    "Задание 1. \n",
    "Даны 2 переменных, в которых хранятся строки произвольной длины: phrase_1 и phrase_2.\n",
    "Напишите код, который проверяет какая из этих строк длиннее."
   ]
  },
  {
   "cell_type": "code",
   "execution_count": null,
   "metadata": {},
   "outputs": [],
   "source": [
    "phrase_1 = 'Насколько проще было бы писать программы, если бы не заказчики'\n",
    "phrase_2 = '640Кб должно хватить для любых задач. Билл Гейтс (по легенде)'\n",
    "\n",
    "if len(phrase_1) > len(phrase_2): print(\"Фраза 1 длиннее фразы 2\")\n",
    "elif len(phrase_1) < len(phrase_2): print(\"Фраза 2 длиннее фразы 1\")\n",
    "else: print(\"Фразы равной длины\")\n"
   ]
  },
  {
   "attachments": {},
   "cell_type": "markdown",
   "metadata": {},
   "source": [
    "Задание 2.\n",
    "Дана переменная, в которой хранится число (год). Необходимо написать программу, которая выведет, является ли данный год високосным или обычным."
   ]
  },
  {
   "cell_type": "code",
   "execution_count": null,
   "metadata": {},
   "outputs": [],
   "source": [
    "year = int(input())\n",
    "if year % 4 == 0: print(\"Високосный год\")\n",
    "else: print(\"Обычный год\")"
   ]
  },
  {
   "attachments": {},
   "cell_type": "markdown",
   "metadata": {},
   "source": [
    "Задание 2а\n",
    "Решение преподавателя"
   ]
  },
  {
   "cell_type": "code",
   "execution_count": null,
   "metadata": {},
   "outputs": [],
   "source": [
    "year = int(input())\n",
    "if (year % 4 == 0) and (year % 100 != 0) or (year % 400 == 0):\n",
    "    print('Високосный год')\n",
    "else:\n",
    "    print('Обычный год')"
   ]
  },
  {
   "attachments": {},
   "cell_type": "markdown",
   "metadata": {},
   "source": [
    "Задание 3.\n",
    "Необходимо написать программу, которая будет запрашивать у пользователя месяц и дату рождения и выводить соответствующий знак зодиака."
   ]
  },
  {
   "cell_type": "code",
   "execution_count": null,
   "metadata": {},
   "outputs": [],
   "source": [
    "day = int(input(\"Введите день:\"))\n",
    "month = int(input(\"Введите месяц:\"))\n",
    "\n",
    "if (21 <= day <= 31 and month == 'Март') or (1 <= day <= 20 and month == 'Апрель'):\n",
    "  print(\"Овен\")\n",
    "elif (21 <= day <= 30 and month == 'Апрель') or (1 <= day <= 21 and month == 'Май'):\n",
    "  print(\"Телец\")\n",
    "elif (22 <= day <= 31 and month == 'Май') or (1 <= day <= 21 and month == 'Июнь'):\n",
    "  print(\"Близнецы\")\n",
    "elif (22 <= day <= 30 and month == 'Июнь') or (1 <= day <= 22 and month == 'Июль'):\n",
    "  print(\"Рак\")\n",
    "elif (23 <= day <= 31 and month == 'Июля') or (1 <= day <= 23 and month == 'Август'):\n",
    "  print(\"Лев\")\n",
    "elif (24 <= day <= 31 and month == 'Август') or (1 <= day <= 22 and month == 'Сентябрь'):\n",
    "  print(\"Дева\")\n",
    "elif (23 <= day <= 30 and month == 'Сентябрь') or (1 <= day <= 23 and month == 'Октябрь'):\n",
    "  print(\"Весы\")\n",
    "elif (24 <= day <= 31 and month == 'Октябрь') or (1 <= day <= 22 and month == 'Ноябрь'):\n",
    "  print(\"Скорпион\")\n",
    "elif (23 <= day <= 30 and month == 'Ноябрь') or (1 <= day <= 21 and month == 'Декабрь'):\n",
    "  print(\"Стрелец\")\n",
    "elif (22 <= day <= 31 and month == 'Декабрь') or (1 <= day <= 20 and month == 'Январь'):\n",
    "  print(\"Козерог\")\n",
    "elif (21 <= day <= 31 and month == 'Январь') or (1 <= day <= 18 and month == 'Февраль'):\n",
    "  print(\"Водолей\")\n",
    "elif (19 <= day <= 29 and month == 'Февраль') or (1 <= day <= 20 and month == 'Март'):\n",
    "  print(\"Рыбы\")\n",
    "else:\n",
    "  print(\"Неверная дата\")"
   ]
  },
  {
   "attachments": {},
   "cell_type": "markdown",
   "metadata": {},
   "source": [
    "Задание 4.\n",
    "Вам нужно написать программу для подбора упаковок по размерам товара. Размеры (ширина, длина, высота) хранятся в переменных (в сантиметрах):\n",
    "\n",
    "Используйте следующие правила:\n",
    "- если каждое из трех измерений менее или равно 15 сантиметрам, то выведите на экран \"Коробка №1\";\n",
    "- если хотя бы одно из измерений больше 2 метров, то выводите \"Упаковка для лыж\";\n",
    "- если хотя бы одно из измерений больше 15 сантиметров, но менее 50 сантиметров, то выводите \"Коробка №2\";\n",
    "- во всех остальных случаях выводите \"Коробка №3\"."
   ]
  },
  {
   "cell_type": "code",
   "execution_count": null,
   "metadata": {},
   "outputs": [],
   "source": [
    "print(\"Введите размеры товара в см\")\n",
    "width = int(input(\"Ширина:\"))\n",
    "length = int(input(\"Длина:\"))\n",
    "height = int(input(\"Высота:\"))\n",
    "\n",
    "if 0 <= width <= 15 and 0 <= length <= 15 and 0 <= height <= 15:\n",
    "  print(\"Коробка №1\")\n",
    "else:\n",
    "  if width > 200 or length > 200 or height > 200:\n",
    "    print(\"Упаковка для лыж\")\n",
    "  elif 15 < width < 50 or 15 < length < 50 or 15 < height < 50:\n",
    "    print(\"Коробка №2\")\n",
    "  else:\n",
    "    print(\"Коробка №3\")"
   ]
  },
  {
   "attachments": {},
   "cell_type": "markdown",
   "metadata": {},
   "source": [
    "Задание 5.\n",
    "Дана переменная, в которой хранится шестизначное число (номер проездного билета). Напишите программу, которая будет определять, является ли данный билет \"счастливым\". Билет считается счастливым, если сумма первых трех цифр совпадает с суммой последних трех цифр номера."
   ]
  },
  {
   "cell_type": "code",
   "execution_count": null,
   "metadata": {},
   "outputs": [],
   "source": [
    "number = input(\"Введите номер билета (6 цифр):\")\n",
    "\n",
    "if len(number) == 6:\n",
    "  first_part_number = int(number[0]) + int(number[1]) + int(number[2])\n",
    "  second_part_number = int(number[-1]) + int(number[-2]) + int(number[-3])\n",
    "  if first_part_number == second_part_number: print(\"Счастливый билет\")\n",
    "  else: print(\"Несчастливый билет\")\n",
    "else: print(\"Номер билета содержит не 6 цифр\")"
   ]
  },
  {
   "attachments": {},
   "cell_type": "markdown",
   "metadata": {},
   "source": [
    "От преподавателя\n",
    "можно было решить при помощи операций целочисленного деления и взятия остатка от деления (если исходить только из тех тем, которые пройдены на момент этого ДЗ), логика примерно такая:"
   ]
  },
  {
   "cell_type": "code",
   "execution_count": null,
   "metadata": {},
   "outputs": [],
   "source": [
    "number = 247456\n",
    "num_1 = number // 100000\n",
    "num_2 = number // 10000 % 10\n",
    "num_3 = number // 1000 % 10"
   ]
  },
  {
   "attachments": {},
   "cell_type": "markdown",
   "metadata": {},
   "source": [
    "далее вытаскиваем аналогично оставшиеся цифры и сравниваем суммы."
   ]
  },
  {
   "attachments": {},
   "cell_type": "markdown",
   "metadata": {},
   "source": [
    "Задание 6.\n",
    "Напишите программу, которая сможет вычислять площади трех фигур (круг, треугольник и прямоугольник). Тип фигуры запрашиваем через пользовательский ввод, после чего делаем запрос характеристик фигуры:\n",
    "\n",
    "если пользователь выбрал круг, запрашиваем его радиус,\n",
    "если треугольник – длины трех его сторон;\n",
    "если прямоугольник – длины двух его сторон."
   ]
  },
  {
   "cell_type": "code",
   "execution_count": null,
   "metadata": {},
   "outputs": [],
   "source": [
    "type_figura = input(\"Напечатайте тип фигуры: круг, треугольник или прямоугольник\")\n",
    "\n",
    "if len(type_figura) == 4:\n",
    "  print(\"Введите радиус круга (см):\")\n",
    "  radius = int(input())\n",
    "  area = round(radius**2 * 3.14, 2)\n",
    "elif len(type_figura) == 11:\n",
    "  print(\"Введите длину стороны А (см):\")\n",
    "  length_a = int(input())\n",
    "  print(\"Введите длину стороны B (см):\")\n",
    "  length_b = int(input())\n",
    "  print(\"Введите длину стороны C (см):\")\n",
    "  length_c = int(input())\n",
    "  half_perimetr = (length_a + length_b + length_c) / 2\n",
    "  area = round((half_perimetr * (half_perimetr - length_a) * (half_perimetr - length_b) * (half_perimetr - length_c))**(1/2), 2)\n",
    "elif len(type_figura) == 13:\n",
    "  print(\"Введите длину стороны А (см):\")\n",
    "  length_a = int(input())\n",
    "  print(\"Введите длину стороны B (см):\")\n",
    "  length_b = int(input())\n",
    "  area = round(length_a * length_b, 2)\n",
    "else: print (\"Неопознанная фигура\")\n",
    "\n",
    "print(\"Площадь \" + type_figura + \"а равна \", area)"
   ]
  }
 ],
 "metadata": {
  "kernelspec": {
   "display_name": "Python 3",
   "language": "python",
   "name": "python3"
  },
  "language_info": {
   "name": "python",
   "version": "3.8.2 (default, Jun  8 2021, 11:59:35) \n[Clang 12.0.5 (clang-1205.0.22.11)]"
  },
  "orig_nbformat": 4,
  "vscode": {
   "interpreter": {
    "hash": "31f2aee4e71d21fbe5cf8b01ff0e069b9275f58929596ceb00d14d90e3e16cd6"
   }
  }
 },
 "nbformat": 4,
 "nbformat_minor": 2
}
