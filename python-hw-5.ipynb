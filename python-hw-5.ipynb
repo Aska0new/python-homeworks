{
 "cells": [
  {
   "cell_type": "code",
   "execution_count": 4,
   "metadata": {},
   "outputs": [],
   "source": [
    "import json\n",
    "\n",
    "purchase = {}\n",
    "with open('purchase_log.txt','r', encoding = 'utf-8') as f:\n",
    "    for i, line in enumerate(f):\n",
    "        line = line.strip()\n",
    "        my_dict = json.loads(line) \n",
    "        key = my_dict['user_id']\n",
    "        value = my_dict['category']\n",
    "        purchase.setdefault(key,value)\n",
    "        #print(purchase)\n",
    "        #if i >10: break"
   ]
  },
  {
   "cell_type": "code",
   "execution_count": 21,
   "metadata": {},
   "outputs": [],
   "source": [
    "with open('visit_log.csv', 'r') as f, open('funnel.csv', 'w') as f_res:\n",
    "    for line in f:\n",
    "        f_list = line.strip().split(',')\n",
    "        #print(f_list)\n",
    "        if f_list[0] in purchase.keys(): \n",
    "            f_list.append(purchase[f_list[0]])\n",
    "            f_res.write(json.dumps(f_list, ensure_ascii=False)+'\\n')\n",
    "\n"
   ]
  }
 ],
 "metadata": {
  "kernelspec": {
   "display_name": "Python 3",
   "language": "python",
   "name": "python3"
  },
  "language_info": {
   "codemirror_mode": {
    "name": "ipython",
    "version": 3
   },
   "file_extension": ".py",
   "mimetype": "text/x-python",
   "name": "python",
   "nbconvert_exporter": "python",
   "pygments_lexer": "ipython3",
   "version": "3.8.9"
  },
  "orig_nbformat": 4,
  "vscode": {
   "interpreter": {
    "hash": "31f2aee4e71d21fbe5cf8b01ff0e069b9275f58929596ceb00d14d90e3e16cd6"
   }
  }
 },
 "nbformat": 4,
 "nbformat_minor": 2
}
