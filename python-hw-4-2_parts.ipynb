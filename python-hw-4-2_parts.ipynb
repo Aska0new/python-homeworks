{
 "cells": [
  {
   "attachments": {},
   "cell_type": "markdown",
   "metadata": {},
   "source": [
    "Вам нужно помочь секретарю автоматизировать работу. Для этого нужно написать программу, которая будет на основе хранимых данных исполнять пользовательские команды.\n",
    "\n",
    "Исходные данные имеют следующую структуру:\n",
    "\n",
    "перечень всех документов\n",
    "documents = [\n",
    "    {'type': 'passport', 'number': '2207 876234', 'name': 'Василий Гупкин'},\n",
    "    {'type': 'invoice', 'number': '11-2', 'name': 'Геннадий Покемонов'},\n",
    "    {'type': 'insurance', 'number': '10006', 'name': 'Аристарх Павлов'}\n",
    "]\n",
    "перечень полок, на которых хранятся документы (если документ есть в documents, то он обязательно должен быть и в directories)\n",
    "directories = {\n",
    "    '1': ['2207 876234', '11-2'],\n",
    "    '2': ['10006'],\n",
    "    '3': []\n",
    "}\n",
    "Общие требования к программе:\n",
    "\n",
    "код должен быть грамотно декомпозирован (каждая функция отвечает за свою конкретную задачу, дублирующийся функционал переиспользуется, а его код не повторяется);\n",
    "в коде отсутствуют глобальные переменные (за исключением documents и directories);\n",
    "пользовательский ввод обрабатывается в цикле while до тех пор, пока пользователь явно не завершит программу (вводом команды \"q\")."
   ]
  },
  {
   "attachments": {},
   "cell_type": "markdown",
   "metadata": {},
   "source": [
    "Задание 1\n",
    "\n",
    "Пункт 1. Пользователь по команде \"p\" может узнать владельца документа по его номеру\n",
    "Пункт 2. Пользователь по команде \"s\" может по номеру документа узнать на какой полке он хранится\n",
    "Пункт 3. Пользователь по команде \"l\" может увидеть полную информацию по всем документам\n",
    "Пункт 4. Пользователь по команде \"ads\" может добавить новую полку\n",
    "Пункт 5. Пользователь по команде \"ds\" может удалить существующую полку из данных (только если она пустая)"
   ]
  },
  {
   "cell_type": "code",
   "execution_count": null,
   "metadata": {},
   "outputs": [],
   "source": [
    "### РЕШЕНИЕ 1 ЗАДАНИЯ"
   ]
  },
  {
   "cell_type": "code",
   "execution_count": null,
   "metadata": {},
   "outputs": [],
   "source": [
    "documents = [\n",
    "    {'type': 'passport', 'number': '2207 876234', 'name': 'Василий Гупкин'},\n",
    "    {'type': 'invoice', 'number': '11-2', 'name': 'Геннадий Покемонов'},\n",
    "    {'type': 'insurance', 'number': '10006', 'name': 'Аристарх Павлов'}\n",
    "]\n",
    "\n",
    "directories = {\n",
    "    '1': ['2207 876234', '11-2'],\n",
    "    '2': ['10006'],\n",
    "    '3': []\n",
    "}\n",
    "com = input('Введите команду:')\n",
    "while com != 'q':\n",
    "    if com == 'l': \n",
    "        for doc in documents: \n",
    "            for key in directories:\n",
    "                if doc['number'] in directories[key]: doc['shelf'] = key\n",
    "            print(f\"№: {doc['number']}, тип: {doc['type']}, владелец: {doc['name']}, полка хранения: {doc['shelf']}\")\n",
    "        break"
   ]
  },
  {
   "cell_type": "code",
   "execution_count": null,
   "metadata": {},
   "outputs": [],
   "source": [
    "documents = [\n",
    "    {'type': 'passport', 'number': '2207 876234', 'name': 'Василий Гупкин'},\n",
    "    {'type': 'invoice', 'number': '11-2', 'name': 'Геннадий Покемонов'},\n",
    "    {'type': 'insurance', 'number': '10006', 'name': 'Аристарх Павлов'}\n",
    "]\n",
    "\n",
    "directories = {\n",
    "    '1': ['2207 876234', '11-2'],\n",
    "    '2': ['10006'],\n",
    "    '3': []\n",
    "}\n",
    "\n",
    "for doc in documents: \n",
    "    for key in directories:\n",
    "        if doc['number'] in directories[key]: doc['shelf'] = key\n",
    "    print(f\"№: {doc['number']}, тип: {doc['type']}, владелец: {doc['name']}, полка хранения: {doc['shelf']}\")\n",
    "\n",
    "num = input('Введите номер полки:')\n",
    "if num in list(directories.keys()): print(f'Такая полка уже существует. Текущий перечень полок: {list(directories.keys())}')"
   ]
  },
  {
   "cell_type": "code",
   "execution_count": null,
   "metadata": {},
   "outputs": [],
   "source": [
    "documents = [\n",
    "    {'type': 'passport', 'number': '2207 876234', 'name': 'Василий Гупкин'},\n",
    "    {'type': 'invoice', 'number': '11-2', 'name': 'Геннадий Покемонов'},\n",
    "    {'type': 'insurance', 'number': '10006', 'name': 'Аристарх Павлов'}\n",
    "]\n",
    "\n",
    "directories = {\n",
    "    '1': ['2207 876234', '11-2'],\n",
    "    '2': ['10006'],\n",
    "    '3': []\n",
    "}\n",
    "\n",
    "def command_p(num):\n",
    "    for doc in documents: \n",
    "        if num == doc['number']: result = doc['name']\n",
    "    return result\n",
    "\n",
    "number = input('Введите номер документа:')\n",
    "print(f'Владелец документа: {command_p(number)}')\n",
    "\n",
    "\n",
    "for doc in documents: \n",
    "    for key in directories:\n",
    "        if doc['number'] in directories[key]: doc['shelf'] = key\n",
    "print(documents)\n"
   ]
  },
  {
   "cell_type": "code",
   "execution_count": null,
   "metadata": {},
   "outputs": [],
   "source": [
    "documents = [\n",
    "    {'type': 'passport', 'number': '2207 876234', 'name': 'Василий Гупкин'},\n",
    "    {'type': 'invoice', 'number': '11-2', 'name': 'Геннадий Покемонов'},\n",
    "    {'type': 'insurance', 'number': '10006', 'name': 'Аристарх Павлов'}\n",
    "]\n",
    "\n",
    "directories = {\n",
    "    '1': ['2207 876234', '11-2'],\n",
    "    '2': ['10006'],\n",
    "    '3': []\n",
    "}\n",
    "\n",
    "def command_s(num):\n",
    "    for doc in documents: \n",
    "        for key in directories:\n",
    "            if doc['number'] in directories[key]: doc['shelf'] = key\n",
    "        break\n",
    "    for doc in documents: \n",
    "        if num == doc['number']: result = doc['shelf']\n",
    "        break\n",
    "\n",
    "    return result\n",
    "\n",
    "number = input('Введите номер документа:')\n",
    "print(f'Полка: {command_s(number)}')"
   ]
  },
  {
   "cell_type": "code",
   "execution_count": null,
   "metadata": {},
   "outputs": [],
   "source": [
    "documents = [\n",
    "    {'type': 'passport', 'number': '2207 876234', 'name': 'Василий Гупкин'},\n",
    "    {'type': 'invoice', 'number': '11-2', 'name': 'Геннадий Покемонов'},\n",
    "    {'type': 'insurance', 'number': '10006', 'name': 'Аристарх Павлов'}\n",
    "]\n",
    "\n",
    "directories = {\n",
    "    '1': ['2207 876234', '11-2'],\n",
    "    '2': ['10006'],\n",
    "    '3': []\n",
    "}\n",
    "\n",
    "def command_ds(num):\n",
    "    if directories[num] == []: result = directories.pop(num)\n",
    "    else: result = 0\n",
    "    print(result)\n",
    "    print(directories.values())\n",
    "    print(directories)\n",
    "    return result\n",
    "\n",
    "shelf_num = input('Введите номер полки:')\n",
    "if shelf_num not in list(directories.keys()): print(f'Такой полки не существует. Текущий перечень полок: {list(directories.keys())}')\n",
    "else:\n",
    "    if command_ds(shelf_num) != 0: print(f'Полка удалена. Текущий перечень полок: {list(directories.keys())}')\n",
    "    else: print(f'На полке есть документа, удалите их перед удалением полки. Текущий перечень полок: {list(directories.keys())}')\n"
   ]
  },
  {
   "cell_type": "code",
   "execution_count": null,
   "metadata": {},
   "outputs": [],
   "source": [
    "documents = [\n",
    "    {'type': 'passport', 'number': '2207 876234', 'name': 'Василий Гупкин'},\n",
    "    {'type': 'invoice', 'number': '11-2', 'name': 'Геннадий Покемонов'},\n",
    "    {'type': 'insurance', 'number': '10006', 'name': 'Аристарх Павлов'}\n",
    "]\n",
    "\n",
    "directories = {\n",
    "    '1': ['2207 876234', '11-2'],\n",
    "    '2': ['10006'],\n",
    "    '3': []\n",
    "}\n",
    "\n",
    "def command_ads(num):\n",
    "    result = directories.setdefault(num, [])\n",
    "    return result\n",
    "\n",
    "com == 'ads'\n",
    "shelf_num = input('Введите номер полки:')\n",
    "if shelf_num in list(directories.keys()): print(f'Такая полка уже существует. Текущий перечень полок: {list(directories.keys())}')\n",
    "else: \n",
    "    command_ads(shelf_num) \n",
    "    print(f'Полка добавлена. Текущий перечень полок: {list(directories.keys())}')\n",
    "print(directories)    "
   ]
  },
  {
   "cell_type": "code",
   "execution_count": null,
   "metadata": {},
   "outputs": [],
   "source": [
    "documents = [\n",
    "    {'type': 'passport', 'number': '2207 876234', 'name': 'Василий Гупкин'},\n",
    "    {'type': 'invoice', 'number': '11-2', 'name': 'Геннадий Покемонов'},\n",
    "    {'type': 'insurance', 'number': '10006', 'name': 'Аристарх Павлов'}\n",
    "]\n",
    "\n",
    "directories = {\n",
    "    '1': ['2207 876234', '11-2'],\n",
    "    '2': ['10006'],\n",
    "    '3': []\n",
    "}\n",
    "directories.items()\n",
    "\n",
    "for doc in documents: \n",
    "    for key in directories:\n",
    "        if doc['number'] in directories[key]: doc['shelf'] = key\n",
    "    print(f\"№: {doc['number']}, тип: {doc['type']}, владелец: {doc['name']}, полка хранения: {doc['shelf']}\")"
   ]
  },
  {
   "cell_type": "code",
   "execution_count": 37,
   "metadata": {},
   "outputs": [
    {
     "name": "stdout",
     "output_type": "stream",
     "text": [
      "№: 2207 876234, тип: passport, владелец: Василий Гупкин, полка хранения: 1\n",
      "№: 11-2, тип: invoice, владелец: Геннадий Покемонов, полка хранения: 1\n",
      "№: 10006, тип: insurance, владелец: Аристарх Павлов, полка хранения: 2\n"
     ]
    }
   ],
   "source": [
    "documents = [\n",
    "    {'type': 'passport', 'number': '2207 876234', 'name': 'Василий Гупкин'},\n",
    "    {'type': 'invoice', 'number': '11-2', 'name': 'Геннадий Покемонов'},\n",
    "    {'type': 'insurance', 'number': '10006', 'name': 'Аристарх Павлов'}\n",
    "]\n",
    "\n",
    "directories = {\n",
    "    '1': ['2207 876234', '11-2'],\n",
    "    '2': ['10006'],\n",
    "    '3': []\n",
    "}\n",
    "\n",
    "def command_l():\n",
    "    for doc in documents: \n",
    "        for key in directories:\n",
    "            if doc['number'] in directories[key]: doc['shelf'] = key\n",
    "    return doc\n",
    "\n",
    "command_l()\n",
    "\n",
    "for docs in documents: print(f\"№: {docs['number']}, тип: {docs['type']}, владелец: {docs['name']}, полка хранения: {docs['shelf']}\")"
   ]
  },
  {
   "cell_type": "code",
   "execution_count": 40,
   "metadata": {},
   "outputs": [
    {
     "name": "stdout",
     "output_type": "stream",
     "text": [
      "№: 2207 876234, тип: passport, владелец: Василий Гупкин, полка хранения: 1\n",
      "№: 11-2, тип: invoice, владелец: Геннадий Покемонов, полка хранения: 1\n",
      "№: 10006, тип: insurance, владелец: Аристарх Павлов, полка хранения: 2\n"
     ]
    }
   ],
   "source": [
    "documents = [\n",
    "    {'type': 'passport', 'number': '2207 876234', 'name': 'Василий Гупкин'},\n",
    "    {'type': 'invoice', 'number': '11-2', 'name': 'Геннадий Покемонов'},\n",
    "    {'type': 'insurance', 'number': '10006', 'name': 'Аристарх Павлов'}\n",
    "]\n",
    "\n",
    "directories = {\n",
    "    '1': ['2207 876234', '11-2'],\n",
    "    '2': ['10006'],\n",
    "    '3': []\n",
    "}\n",
    "\n",
    "def command_l():\n",
    "    for doc in documents: \n",
    "        for key in directories:\n",
    "            if doc['number'] in directories[key]: doc['shelf'] = key\n",
    "    return doc\n",
    "'''\n",
    "Пользователь по команде «ad» может добавить новый документ в данные.\n",
    "'''\n",
    "def command_ad(num, type, name, shelf):\n",
    "    for doc in documents:\n",
    "        for key in directories:\n",
    "            х = {'type': type, 'number': num, 'name': name}\n",
    "        documents.append(x)\n",
    "    return doc\n",
    "\n",
    "com = 'ad'\n",
    "doc_num = input('Введите номер документа:')\n",
    "doc_type = input('Введите тип документа:')\n",
    "doc_name = input('Введите владельца документа:')\n",
    "shelf_num = input('Введите полку хранения документа:')\n",
    "if shelf_num in list(directories.keys()):\n",
    "    command_ad(doc_num, doc_type, doc_name, shelf_num)\n",
    "else: print('Такой полки не существует. Добавьте полку командой ads')\n",
    "command_l() \n",
    "for docs in documents: \n",
    "    print(f\"№: {docs['number']}, тип: {docs['type']}, владелец: {docs['name']}, полка хранения: {docs['shelf']}\")"
   ]
  },
  {
   "cell_type": "code",
   "execution_count": 54,
   "metadata": {},
   "outputs": [
    {
     "name": "stdout",
     "output_type": "stream",
     "text": [
      "345\n",
      "[{'type': 'passport', 'number': '2207 876234', 'name': 'Василий Гупкин'}, {'type': 'invoice', 'number': '11-2', 'name': 'Геннадий Покемонов'}, {'type': 'insurance', 'number': '10006', 'name': 'Аристарх Павлов'}, {'type': 'ert', 'number': '345', 'name': 'dfgh'}]\n",
      "{'1': ['2207 876234', '11-2'], '2': ['10006'], '3': '345'}\n"
     ]
    }
   ],
   "source": [
    "documents = [\n",
    "    {'type': 'passport', 'number': '2207 876234', 'name': 'Василий Гупкин'},\n",
    "    {'type': 'invoice', 'number': '11-2', 'name': 'Геннадий Покемонов'},\n",
    "    {'type': 'insurance', 'number': '10006', 'name': 'Аристарх Павлов'}\n",
    "]\n",
    "\n",
    "directories = {\n",
    "    '1': ['2207 876234', '11-2'],\n",
    "    '2': ['10006'],\n",
    "    '3': []\n",
    "}\n",
    "\n",
    "def command_ad(num, type, name, shelf):\n",
    "    new_doc = {'type': type, 'number': num, 'name': name}\n",
    "    documents.append(new_doc)\n",
    "    print(new_doc['number'])\n",
    "    directories[shelf] = new_doc['number']\n",
    "    return doc\n",
    "com = 'ad'\n",
    "doc_num = input('Введите номер документа:')\n",
    "doc_type = input('Введите тип документа:')\n",
    "doc_name = input('Введите владельца документа:')\n",
    "shelf_num = input('Введите полку хранения документа:')\n",
    "command_ad(doc_num, doc_type, doc_name, shelf_num)\n",
    "print(documents)\n",
    "print(directories)"
   ]
  }
 ],
 "metadata": {
  "kernelspec": {
   "display_name": "Python 3",
   "language": "python",
   "name": "python3"
  },
  "language_info": {
   "codemirror_mode": {
    "name": "ipython",
    "version": 3
   },
   "file_extension": ".py",
   "mimetype": "text/x-python",
   "name": "python",
   "nbconvert_exporter": "python",
   "pygments_lexer": "ipython3",
   "version": "3.8.9"
  },
  "orig_nbformat": 4,
  "vscode": {
   "interpreter": {
    "hash": "31f2aee4e71d21fbe5cf8b01ff0e069b9275f58929596ceb00d14d90e3e16cd6"
   }
  }
 },
 "nbformat": 4,
 "nbformat_minor": 2
}
