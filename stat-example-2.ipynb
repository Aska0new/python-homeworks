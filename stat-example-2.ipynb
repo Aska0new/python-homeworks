{
 "cells": [
  {
   "attachments": {},
   "cell_type": "markdown",
   "metadata": {},
   "source": [
    "Определите размер необходимой выборки для исследования среднего чека за кофе в городе N, если известны следующие параметры:\n",
    "\n",
    "погрешность (Δ);\n",
    "дисперсия (σ2);\n",
    "уровень доверия (1-α).\n",
    "Ответ округлите до целого.\n",
    "\n",
    "функция ppf из scipy возвращает перцентиль"
   ]
  },
  {
   "cell_type": "code",
   "execution_count": null,
   "metadata": {},
   "outputs": [],
   "source": [
    "import numpy as np\n",
    "from scipy import stats\n",
    "\n",
    "\n",
    "def sample(delta, sigsqr, conf):\n",
    "    return round(sigsqr*((stats.norm.ppf((1+conf)/2)/delta)**2))"
   ]
  },
  {
   "cell_type": "code",
   "execution_count": null,
   "metadata": {},
   "outputs": [],
   "source": [
    "import numpy as np\n",
    "from scipy import stats\n",
    "\n",
    "\n",
    "def sample(delta, sigsqr, conf):\n",
    "    return round(np.ceil(sigsqr*(stats.norm.ppf((1 + conf)/2)**2)/(delta**2)))\n"
   ]
  },
  {
   "attachments": {},
   "cell_type": "markdown",
   "metadata": {},
   "source": [
    "Постройте доверительный интервал для среднего значения, если известны:\n",
    "\n",
    "объём выборки (n) от 10 до 26;\n",
    "среднее значение по выборке (x¯);\n",
    "стандартное отклонение (σ).\n",
    "В ответе укажите длину полученного доверительного интервала (разницу между правым и левым концом), округлённую до целого.\n",
    "\n",
    "Подсказка: при малом размере выборки предпочтительнее использовать t-распределение из модуля scipy."
   ]
  },
  {
   "cell_type": "code",
   "execution_count": null,
   "metadata": {},
   "outputs": [],
   "source": [
    "import numpy as np\n",
    "from scipy import stats\n",
    "\n",
    "\n",
    "def interval(n, mean, sig, conf):\n",
    "  # h - точность интервальной оценки\n",
    "    h = (sig/np.sqrt(n))*stats.t.ppf((1+conf)/2,n-1)\n",
    "    lower = mean - h\n",
    "    upper = mean + h\n",
    "    return round(upper - lower)"
   ]
  },
  {
   "cell_type": "code",
   "execution_count": null,
   "metadata": {},
   "outputs": [],
   "source": [
    "import numpy as np\n",
    "from scipy import stats\n",
    "\n",
    "\n",
    "def interval(n, mean, sig, conf):\n",
    "  h = sig * stats.t.ppf((1 + conf)/2, n-1)/np.sqrt(n)\n",
    "  return round((mean+h)-(mean-h))\n"
   ]
  },
  {
   "attachments": {},
   "cell_type": "markdown",
   "metadata": {},
   "source": [
    "Профессор университета читал онлайн-лекции вместо очных занятий из-за Covid-19. Позже он загружал в облако записанные лекции для студентов, которые просматривали их в записи. Профессор считает, что учащиеся, которые посещают занятия в учебное время и участвуют в процессе, более успешны. Поэтому он записал средние оценки студентов в конце семестра, чтобы проверить эту гипотезу.\n",
    "\n",
    "С помощью статистического теста проверьте, является ли мнение профессора статистически значимым, используя уровень значимости 0,05 для оценки нулевой и альтернативной гипотез.\n",
    "\n",
    "В рамках задания считается, что данные распределены нормально, а вариация в группах одинаковая.\n",
    "\n",
    "Подсказка\n",
    "Используйте тест Стьюдента для сравнения средних двух совокупностей, найдите p-value и сравните с заданным уровнем значимости"
   ]
  },
  {
   "cell_type": "code",
   "execution_count": null,
   "metadata": {},
   "outputs": [],
   "source": [
    "import numpy as np\n",
    "from scipy import stats\n",
    "\n",
    "\n",
    "sync = np.round(81 + 6 * np.random.standard_normal(22),1)\n",
    "asyncr = np.round(74 + 6 * np.random.standard_normal(14),1)\n",
    "\n",
    "\n",
    "# H0 - выборки не имеют стат. значимых различий\n",
    "# H1 - выборки имеют стат. значимые различия\n",
    "\n",
    "\n",
    "stat, p = stats.ttest_ind(sync, asyncr)\n",
    "if p < 0.05:\n",
    "  print(\"Отклоняем нулевую гипотезу\")\n",
    "else:\n",
    "  print(\"Не отклоняем нулевую гипотезу\")"
   ]
  },
  {
   "attachments": {},
   "cell_type": "markdown",
   "metadata": {},
   "source": [
    "Центр здоровья университета диагностировал у восемнадцати студентов высокий уровень холестерина в предыдущем семестре. Медицинский персонал рассказал этим пациентам об опасности высокого уровня холестерина и прописал диету. Через месяц больные пришли на контроль, и у них повторно проверили уровень холестерина. Проверьте, есть ли разница в уровнях холестерина у пациентов.\n",
    "\n",
    "В соответствии с этой информацией проведите проверку гипотезы, чтобы проверить, есть ли снижение уровня холестерина у пациентов после диеты, используя уровень значимости 0,05.\n",
    "\n",
    "В рамках задания считается, что данные распределены нормально, а вариация в группах одинаковая.\n",
    "Подсказка\n",
    "Используйте тест Стьюдента для парных выборок, найдите p-value и сравните с заданным уровнем значимости"
   ]
  },
  {
   "cell_type": "code",
   "execution_count": null,
   "metadata": {},
   "outputs": [],
   "source": [
    "import numpy as np\n",
    "from scipy import stats\n",
    "\n",
    "\n",
    "before_diet = np.round(239 + 15 * np.random.standard_normal(18),0)\n",
    "after_diet = np.round(206 + 15 * np.random.standard_normal(18),0)\n",
    "\n",
    "\n",
    "# H0 - выборки не имеют стат. значимых различий\n",
    "# H1 - выборки имеют стат. значимые различия\n",
    "\n",
    "\n",
    "stat, p = stats.ttest_ind(before_diet, after_diet)\n",
    "if p < 0.05:\n",
    "  print(\"Отклоняем нулевую гипотезу\")\n",
    "else:\n",
    "  print(\"Не отклоняем нулевую гипотезу\")"
   ]
  },
  {
   "attachments": {},
   "cell_type": "markdown",
   "metadata": {},
   "source": [
    "Представьте, что вы хотите разоблачить “волшебника” который считает, что умеет предсказывать погоду на завтра, отвечая просто: дождь или солнце. Вы пронаблюдали за ответами “волшебника” в течении какого-то периода времени и получили некие результаты:\n",
    "\n",
    "d1 = np.random.choice(range(8,18),(1,2))\n",
    "d2 = np.random.choice(range(28,41),(1,2))\n",
    "data = np.concatenate((d1, d2), axis=0)\n",
    "observations = pd.DataFrame(data,\n",
    "                            index=['Дождь','Солнце'],\n",
    "                            columns=['Верные ответы волшебника','Неверные ответы'])\n",
    "observations\n",
    "\n",
    "\n",
    "Можно ли сказать, что маг действительно умеет предсказывать погоду? Уровень значимости принимаем за 0.05.\n",
    "Подсказка\n",
    "Используйте точный тест Фишера, найдите p-value и сравните с заданным уровнем значимости"
   ]
  },
  {
   "cell_type": "code",
   "execution_count": null,
   "metadata": {},
   "outputs": [],
   "source": [
    "import pandas as pd\n",
    "import numpy as np\n",
    "from scipy import stats\n",
    "\n",
    "\n",
    "d1 = np.random.choice(range(8,18),(1,2))\n",
    "d2 = np.random.choice(range(28,41),(1,2))\n",
    "data = np.concatenate((d1, d2), axis=0)\n",
    "\n",
    "\n",
    "observations = pd.DataFrame(data,\n",
    "                            index=['Дождь','Солнце'],\n",
    "                            columns=['Верные ответы волшебника','Неверные ответы'])\n",
    "\n",
    "\n",
    "# H0 - выборки не зависимы\n",
    "# H1 - выборки зависимы\n",
    "\n",
    "\n",
    "oddsratio, p = stats.fisher_exact(observations)\n",
    "if p < 0.05:\n",
    "    print('Отклоняем нулевую гипотезу. Есть некоторая зависимость')\n",
    "else:\n",
    "    print('Не отклоняем нулевую гипотезу. Выборки, вероятно, независимы')"
   ]
  },
  {
   "cell_type": "code",
   "execution_count": null,
   "metadata": {},
   "outputs": [],
   "source": [
    "import pandas as pd\n",
    "import numpy as np\n",
    "from scipy import stats\n",
    "\n",
    "\n",
    "d1 = np.random.choice(range(8,18),(1,2))\n",
    "d2 = np.random.choice(range(28,41),(1,2))\n",
    "data = np.concatenate((d1, d2), axis=0)\n",
    "\n",
    "\n",
    "observations = pd.DataFrame(data,\n",
    "                            index=['Дождь','Солнце'],\n",
    "                            columns=['Верные ответы волшебника','Неверные ответы'])\n",
    "\n",
    "\n",
    "# H0 - выборки не зависимы\n",
    "# H1 - выборки зависимы\n",
    "\n",
    "one = [observations.loc['Дождь','Верные ответы волшебника'],observations.loc['Дождь','Неверные ответы']]\n",
    "two = [observations.loc['Солнце','Верные ответы волшебника'],observations.loc['Солнце','Неверные ответы']]\n",
    "x = [one,two]\n",
    "oddsratio, p = stats.fisher_exact(x)\n",
    "if p < 0.05:\n",
    "    print('Отклоняем нулевую гипотезу. Есть некоторая зависимость')\n",
    "else:\n",
    "    print('Не отклоняем нулевую гипотезу. Выборки, вероятно, независимы')"
   ]
  }
 ],
 "metadata": {
  "language_info": {
   "name": "python"
  },
  "orig_nbformat": 4
 },
 "nbformat": 4,
 "nbformat_minor": 2
}
