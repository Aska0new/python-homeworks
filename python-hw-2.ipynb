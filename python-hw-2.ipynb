{
 "cells": [
  {
   "attachments": {},
   "cell_type": "markdown",
   "metadata": {},
   "source": [
    "##### Домашнее задание к лекции \"Введение в типы данных и циклы. Часть 1\"\n",
    "Задание 1.\n",
    "\n",
    "Дана переменная, в которой хранится слово из латинских букв. Напишите код, который выводит на экран:\n",
    "\n",
    "среднюю букву, если число букв в слове нечетное;\n",
    "две средних буквы, если число букв четное."
   ]
  },
  {
   "cell_type": "code",
   "execution_count": null,
   "metadata": {},
   "outputs": [],
   "source": [
    "word = input(\"Введите слово:\")\n",
    "\n",
    "middle = round(len(word) / 2)\n",
    "if middle % 2 == 0: print (\"Результат:\", word[middle-1:middle+1])\n",
    "else: print (\"Результат:\", word[middle])"
   ]
  },
  {
   "attachments": {},
   "cell_type": "markdown",
   "metadata": {},
   "source": [
    "Задание 2.\n",
    "Напишите программу, которая последовательно запрашивает у пользователя числа (по одному за раз) и после первого нуля выводит сумму всех ранее введенных чисел."
   ]
  },
  {
   "cell_type": "code",
   "execution_count": null,
   "metadata": {},
   "outputs": [],
   "source": [
    "\n",
    "digit = int(input(\"Введите число:\"))\n",
    "\n",
    "result = 0\n",
    "\n",
    "while digit != 0 : \n",
    "  result = result + digit \n",
    "  print(\"Введите число\")\n",
    "  digit = int(input())\n",
    "  \n",
    "print(\"Результат:\", result)"
   ]
  },
  {
   "attachments": {},
   "cell_type": "markdown",
   "metadata": {},
   "source": [
    "Задание 3.\n",
    "Мы делаем MVP dating-сервиса, и у нас есть список парней и девушек.\n",
    "Выдвигаем гипотезу: лучшие рекомендации мы получим, если просто отсортируем имена по алфавиту и познакомим людей с одинаковыми индексами после сортировки! Но мы не будем никого знакомить, если кто-то может остаться без пары"
   ]
  },
  {
   "cell_type": "code",
   "execution_count": null,
   "metadata": {},
   "outputs": [],
   "source": [
    "boys = ['Peter', 'Alex', 'John', 'Arthur', 'Richard']\n",
    "girls = ['Kate', 'Liza', 'Kira', 'Emma', 'Trisha']\n",
    "\n",
    "#boys = ['Peter', 'Alex', 'John', 'Arthur', 'Richard', 'Michael']\n",
    "#girls = ['Kate', 'Liza', 'Kira', 'Emma', 'Trisha']\n",
    "\n",
    "if len(boys) == len (girls):\n",
    "  boys = sorted(boys)\n",
    "  girls = sorted(girls)\n",
    "  i = 0\n",
    "  print(\"Идеальные пары:\\n\")\n",
    "  while i < len(boys): \n",
    "    print(f'{boys[i]} и {girls[i]}')\n",
    "    i += 1\n",
    "else: print(\"Внимание, кто-то может остаться без пары!\")"
   ]
  },
  {
   "attachments": {},
   "cell_type": "markdown",
   "metadata": {},
   "source": [
    "Задание 3а // Произвольный ввод"
   ]
  },
  {
   "cell_type": "code",
   "execution_count": null,
   "metadata": {},
   "outputs": [],
   "source": [
    "print('Введите имена через пробел')\n",
    "print('Мужчины:')\n",
    "boys = [input().split()]\n",
    "print('Женщины:')\n",
    "girls = [input().split()]\n",
    "\n",
    "if len(boys) == len (girls):\n",
    "  boys = sorted(boys)\n",
    "  girls = sorted(girls)\n",
    "  i = 0\n",
    "  print('Идеальные пары:\\n')\n",
    "  while i < len(boys): \n",
    "    print(f'{boys[i]} и {girls[i]}')\n",
    "    i += 1\n",
    "else: print('Внимание, кто-то может остаться без пары!')"
   ]
  },
  {
   "attachments": {},
   "cell_type": "markdown",
   "metadata": {},
   "source": [
    "Задание 4.\n",
    "У нас есть список, содержащий информацию о среднедневной температуре в Фаренгейтах за произвольный период по странам (структура данных в примере). Необходимо написать код, который рассчитает среднюю температуру за период в Цельсиях(!) для каждой страны."
   ]
  },
  {
   "cell_type": "code",
   "execution_count": null,
   "metadata": {},
   "outputs": [],
   "source": [
    "countries_temperature = [\n",
    "    ['Таиланд', [75.2, 77, 78.8, 73.4, 68, 75.2, 77]],\n",
    "    ['Германия', [57.2, 55.4, 59, 59, 53.6]],\n",
    "    ['Россия', [35.6, 37.4, 39.2, 41, 42.8, 39.2, 35.6]],\n",
    "    ['Польша', [50, 50, 53.6, 57.2, 55.4, 55.4]]\n",
    "]\n",
    "country = []\n",
    "temperature = []\n",
    "average_temp = []\n",
    "\n",
    "for i in range(len(countries_temperature)): \n",
    "  country.append(countries_temperature[i][0])\n",
    "  temperature.append(countries_temperature[i][1])\n",
    "\n",
    "\n",
    "for j in range(len(temperature)):\n",
    "  average_temp.append(round(((sum(temperature[j]) / (len(temperature) + 1)) - 32) * 5 / 9, 2))\n",
    "\n",
    "print(country)\n",
    "print(average_temp)"
   ]
  },
  {
   "attachments": {},
   "cell_type": "markdown",
   "metadata": {},
   "source": [
    "Знаю, что решение некрасивое, но другое не нашла - 2 дня убила на этот вариант..."
   ]
  },
  {
   "attachments": {},
   "cell_type": "markdown",
   "metadata": {},
   "source": [
    "Задание 5.\n",
    "Имеется список с транспортными номерами. Необходимо написать код, который проверит каждый номер на валидность (1 буква, 3 цифры, 2 буквы, 2-3 цифры). Обратите внимание, что не все буквы кириллического алфавита используются в транспортных номерах.\n",
    "\n",
    "Если номер валиден, то вывести его в нужном формавте (пример ниже), а если не валиден — вывести текст. "
   ]
  }
 ],
 "metadata": {
  "kernelspec": {
   "display_name": "Python 3",
   "language": "python",
   "name": "python3"
  },
  "language_info": {
   "name": "python",
   "version": "3.8.2 (default, Jun  8 2021, 11:59:35) \n[Clang 12.0.5 (clang-1205.0.22.11)]"
  },
  "orig_nbformat": 4,
  "vscode": {
   "interpreter": {
    "hash": "31f2aee4e71d21fbe5cf8b01ff0e069b9275f58929596ceb00d14d90e3e16cd6"
   }
  }
 },
 "nbformat": 4,
 "nbformat_minor": 2
}
