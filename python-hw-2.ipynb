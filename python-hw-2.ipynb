{
 "cells": [
  {
   "attachments": {},
   "cell_type": "markdown",
   "metadata": {},
   "source": [
    "##### Домашнее задание к лекции \"Введение в типы данных и циклы. Часть 1\"\n",
    "Задание 1.\n",
    "\n",
    "Дана переменная, в которой хранится слово из латинских букв. Напишите код, который выводит на экран:\n",
    "\n",
    "среднюю букву, если число букв в слове нечетное;\n",
    "две средних буквы, если число букв четное."
   ]
  },
  {
   "cell_type": "code",
   "execution_count": null,
   "metadata": {},
   "outputs": [],
   "source": [
    "word = input(\"Введите слово:\")\n",
    "\n",
    "middle = round(len(word) / 2)\n",
    "if middle % 2 == 0: print (\"Результат:\", word[middle-1:middle+1])\n",
    "else: print (\"Результат:\", word[middle])"
   ]
  },
  {
   "attachments": {},
   "cell_type": "markdown",
   "metadata": {},
   "source": [
    "Задание 2.\n",
    "Напишите программу, которая последовательно запрашивает у пользователя числа (по одному за раз) и после первого нуля выводит сумму всех ранее введенных чисел."
   ]
  },
  {
   "cell_type": "code",
   "execution_count": null,
   "metadata": {},
   "outputs": [],
   "source": [
    "\n",
    "digit = int(input(\"Введите число:\"))\n",
    "\n",
    "result = 0\n",
    "\n",
    "while digit != 0 : \n",
    "  result = result + digit \n",
    "  print(\"Введите число\")\n",
    "  digit = int(input())\n",
    "  \n",
    "print(\"Результат:\", result)"
   ]
  },
  {
   "attachments": {},
   "cell_type": "markdown",
   "metadata": {},
   "source": [
    "Задание 3.\n",
    "Мы делаем MVP dating-сервиса, и у нас есть список парней и девушек.\n",
    "Выдвигаем гипотезу: лучшие рекомендации мы получим, если просто отсортируем имена по алфавиту и познакомим людей с одинаковыми индексами после сортировки! Но мы не будем никого знакомить, если кто-то может остаться без пары"
   ]
  },
  {
   "cell_type": "code",
   "execution_count": null,
   "metadata": {},
   "outputs": [],
   "source": [
    "boys = ['Peter', 'Alex', 'John', 'Arthur', 'Richard']\n",
    "girls = ['Kate', 'Liza', 'Kira', 'Emma', 'Trisha']\n",
    "\n",
    "#boys = ['Peter', 'Alex', 'John', 'Arthur', 'Richard', 'Michael']\n",
    "#girls = ['Kate', 'Liza', 'Kira', 'Emma', 'Trisha']\n",
    "\n",
    "if len(boys) == len (girls):\n",
    "  boys = sorted(boys)\n",
    "  girls = sorted(girls)\n",
    "  i = 0\n",
    "  print(\"Идеальные пары:\\n\")\n",
    "  while i < len(boys): \n",
    "    print(f'{boys[i]} и {girls[i]}')\n",
    "    i += 1\n",
    "else: print(\"Внимание, кто-то может остаться без пары!\")"
   ]
  },
  {
   "attachments": {},
   "cell_type": "markdown",
   "metadata": {},
   "source": [
    "Задание 3а // Произвольный ввод"
   ]
  },
  {
   "cell_type": "code",
   "execution_count": null,
   "metadata": {},
   "outputs": [],
   "source": [
    "print('Введите имена через пробел')\n",
    "print('Мужчины:')\n",
    "boys = [input().split()]\n",
    "print('Женщины:')\n",
    "girls = [input().split()]\n",
    "\n",
    "if len(boys) == len (girls):\n",
    "  boys = sorted(boys)\n",
    "  girls = sorted(girls)\n",
    "  i = 0\n",
    "  print('Идеальные пары:\\n')\n",
    "  while i < len(boys): \n",
    "    print(f'{boys[i]} и {girls[i]}')\n",
    "    i += 1\n",
    "else: print('Внимание, кто-то может остаться без пары!')"
   ]
  },
  {
   "attachments": {},
   "cell_type": "markdown",
   "metadata": {},
   "source": [
    "Задание 4.\n",
    "У нас есть список, содержащий информацию о среднедневной температуре в Фаренгейтах за произвольный период по странам (структура данных в примере). Необходимо написать код, который рассчитает среднюю температуру за период в Цельсиях(!) для каждой страны.\n",
    "\n",
    "Знаю, что решение не очень, но другое не нашла: 2 дня убила на этот вариант...\n",
    "Подскажите:\n",
    "как из в моей версии вывести страна-температура (как свести 2 списка в один)?\n",
    "как упростить перебор элементов (не мой вариант решения)?"
   ]
  },
  {
   "cell_type": "code",
   "execution_count": null,
   "metadata": {},
   "outputs": [],
   "source": [
    "countries_temperature = [\n",
    "    ['Таиланд', [75.2, 77, 78.8, 73.4, 68, 75.2, 77]],\n",
    "    ['Германия', [57.2, 55.4, 59, 59, 53.6]],\n",
    "    ['Россия', [35.6, 37.4, 39.2, 41, 42.8, 39.2, 35.6]],\n",
    "    ['Польша', [50, 50, 53.6, 57.2, 55.4, 55.4]]\n",
    "]\n",
    "country = []\n",
    "temperature = []\n",
    "average_temp = []\n",
    "\n",
    "for i in range(len(countries_temperature)): \n",
    "  country.append(countries_temperature[i][0])\n",
    "  temperature.append(countries_temperature[i][1])\n",
    "\n",
    "for j in range(len(temperature)):\n",
    "  average_temp.append(round(((sum(temperature[j]) / (len(temperature) + 1)) - 32) * 5 / 9, 2))\n",
    "\n",
    "print(country)\n",
    "print(average_temp)"
   ]
  },
  {
   "attachments": {},
   "cell_type": "markdown",
   "metadata": {},
   "source": [
    "Задание 5.\n",
    "Имеется список с транспортными номерами. Необходимо написать код, который проверит каждый номер на валидность (1 буква, 3 цифры, 2 буквы, 2-3 цифры). Обратите внимание, что не все буквы кириллического алфавита используются в транспортных номерах.\n",
    "ГОСТом для использования на знаках разрешены 12 букв кириллицы, имеющие графические аналоги в латинском алфавите — А, В, Е, К, М, Н, О, Р, С, Т, У и Х.\n",
    "\n",
    "Если номер валиден, то вывести его в нужном формавте (пример ниже), а если не валиден — вывести текст. \n",
    "\n",
    "С 5 заданием не смогла справится - нужна помощь.\n",
    "Разбиваю введенный номер на 4 части, т.к. они фиксированы и проверяю их на соответствие условию: 1 и 3 часть - строка, 2 и 4 - строка с цифрами. С условием проверки на допустимые буква (список normal_letter) не справилась - не могу корректно его написать: перебор в цикле и сравнение букв из заданного списка normal_letter и введенныъх букв..."
   ]
  },
  {
   "cell_type": "code",
   "execution_count": null,
   "metadata": {},
   "outputs": [],
   "source": [
    "car_ids = ['А222ВС96', 'АБ22ВВ193', 'АБ22ВВ1939']\n",
    "normal_letter = ['А', 'В', 'Е', 'К', 'М', 'Н', 'О', 'Р', 'С', 'Т', 'У', 'Х']\n",
    "\n",
    "\n",
    "for i in range(0,len(car_ids)):\n",
    "  if len(car_ids[i]) <= 9:\n",
    "    S = car_ids[i]\n",
    "    first_car_id = S[0]\n",
    "    second_car_id = S[1:4]\n",
    "    third_car_id = S[4:6]\n",
    "    forth_car_id = S[6:len(S)]\n",
    "    if not first_car_id.isdigit() and second_car_id.isdigit() and not third_car_id.isdigit() and forth_car_id.isdigit(): \n",
    "      for i in range(0,len(normal_letter)):\n",
    "        #if normal_letter[j] in first_car_id: \n",
    "          #if normal_letter[j] in third_car_id:\n",
    "            print(f'Номер {car_ids[i]} валиден {first_car_id} {second_car_id} {third_car_id}. Регион: {forth_car_id}')\n",
    "          #else: print(f'Номер {car_ids[i]} не валиден')  \n",
    "        #else: print(f'Номер {car_ids[i]} не валиден')  \n",
    "    else: print(f'Номер {car_ids[i]} не валиден')  \n",
    "  else: print(f'Номер {car_ids[i]} не валиден') "
   ]
  },
  {
   "attachments": {},
   "cell_type": "markdown",
   "metadata": {},
   "source": [
    "Задание 6 (необязательное)\n",
    "\n",
    "Дан поток логов по количеству просмотренных страниц для каждого пользователя (пользователь,дата;просмотры). \n",
    "Вам необходимо написать алгоритм, который считает среднее значение просмотров на пользователя. \n",
    "Т. е. надо посчитать отношение суммы всех просмотров к количеству уникальных пользователей. \n",
    "И тут регулярные выражения облегчат немного реализацию.\n",
    "\n",
    "Не смогла доделать задание: как из списка ниже посчитать уникальные значения?\n",
    "\n",
    "['user4', '2021-01-01;3', 'user4,2021-01-01', '3']\n",
    "['user3', '2022-01-07;4', 'user3,2022-01-07', '4']\n",
    "['user2', '2022-03-29;1', 'user2,2022-03-29', '1']\n",
    "['user1', '2020-04-04;13', 'user1,2020-04-04', '13']\n",
    "['user2', '2022-01-05;7', 'user2,2022-01-05', '7']\n",
    "['user1', '2021-06-14;4', 'user1,2021-06-14', '4']\n",
    "['user3', '2022-07-02;10', 'user3,2022-07-02', '10']\n",
    "['user4', '2021-03-21;19', 'user4,2021-03-21', '19']\n",
    "['user4', '2022-03-22;4', 'user4,2022-03-22', '4']\n",
    "['user4', '2022-04-22;8', 'user4,2022-04-22', '8']\n",
    "['user4', '2021-05-03;9', 'user4,2021-05-03', '9']\n",
    "['user4', '2022-05-11;11', 'user4,2022-05-11', '11']"
   ]
  },
  {
   "cell_type": "code",
   "execution_count": null,
   "metadata": {},
   "outputs": [],
   "source": [
    "stream = [\n",
    "    'user4,2021-01-01;3',\n",
    "    'user3,2022-01-07;4',\n",
    "    'user2,2022-03-29;1',\n",
    "    'user1,2020-04-04;13',\n",
    "    'user2,2022-01-05;7',\n",
    "    'user1,2021-06-14;4',\n",
    "    'user3,2022-07-02;10',\n",
    "    'user4,2021-03-21;19',\n",
    "    'user4,2022-03-22;4',\n",
    "    'user4,2022-04-22;8',\n",
    "    'user4,2021-05-03;9',\n",
    "    'user4,2022-05-11;11'\n",
    "]\n",
    "\n",
    "import re\n",
    "all_view = 0\n",
    "user_list = []\n",
    "\n",
    "for i in range(0,len(stream)): \n",
    "  user_inputs = re.split(r',', stream[i], 1) + re.split(r';', stream[i], 1)\n",
    "  print(user_inputs)\n",
    "  all_view += int(user_inputs[3])\n",
    "  if user_inputs[0] not in user_list: user_list.append(user_inputs[0])\n",
    "print(all_view)"
   ]
  },
  {
   "cell_type": "code",
   "execution_count": null,
   "metadata": {},
   "outputs": [],
   "source": [
    "stream = [\n",
    "    'user4,2021-01-01;3',\n",
    "    'user3,2022-01-07;4',\n",
    "    'user2,2022-03-29;1',\n",
    "    'user1,2020-04-04;13',\n",
    "    'user2,2022-01-05;7',\n",
    "    'user1,2021-06-14;4',\n",
    "    'user3,2022-07-02;10',\n",
    "    'user4,2021-03-21;19',\n",
    "    'user4,2022-03-22;4',\n",
    "    'user4,2022-04-22;8',\n",
    "    'user4,2021-05-03;9',\n",
    "    'user4,2022-05-11;11'\n",
    "]\n",
    "\n",
    "import re\n",
    "all_view = 0\n",
    "user_list = []\n",
    "\n",
    "for i in range(0,len(stream)): \n",
    "  user_inputs = re.split(r',', stream[i], 1) + re.split(r';', stream[i], 1)\n",
    "  all_view += int(user_inputs[3])\n",
    "  if user_inputs[0] not in user_list: user_list.append(user_inputs[0])\n",
    "  print(user_inputs)\n",
    "  user_list = user_inputs.copy, \n",
    "#print(user_list)\n",
    "print(all_view)"
   ]
  }
 ],
 "metadata": {
  "kernelspec": {
   "display_name": "Python 3",
   "language": "python",
   "name": "python3"
  },
  "language_info": {
   "name": "python",
   "version": "3.8.2 (default, Jun  8 2021, 11:59:35) \n[Clang 12.0.5 (clang-1205.0.22.11)]"
  },
  "orig_nbformat": 4,
  "vscode": {
   "interpreter": {
    "hash": "31f2aee4e71d21fbe5cf8b01ff0e069b9275f58929596ceb00d14d90e3e16cd6"
   }
  }
 },
 "nbformat": 4,
 "nbformat_minor": 2
}
