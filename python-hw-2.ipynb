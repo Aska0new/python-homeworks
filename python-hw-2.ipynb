{
 "cells": [
  {
   "cell_type": "code",
   "execution_count": null,
   "metadata": {},
   "outputs": [],
   "source": [
    "print('Введите имена через пробел')\n",
    "print('Мужчины:')\n",
    "boys = [input().split()]\n",
    "print('Женщины:')\n",
    "girls = [input().split()]\n",
    "\n",
    "if len(boys) == len (girls):\n",
    "  boys = sorted(boys)\n",
    "  girls = sorted(girls)\n",
    "  i = 0\n",
    "  print(\"Идеальные пары:\\n\")\n",
    "  while i < len(boys): \n",
    "    print(f'{boys[i]} и {girls[i]}')\n",
    "    i += 1\n",
    "else: print('Внимание, кто-то может остаться без пары!')"
   ]
  },
  {
   "attachments": {},
   "cell_type": "markdown",
   "metadata": {},
   "source": [
    "Задание 3a"
   ]
  },
  {
   "cell_type": "code",
   "execution_count": null,
   "metadata": {},
   "outputs": [],
   "source": [
    "boys = ['Peter', 'Alex', 'John', 'Arthur', 'Richard']\n",
    "girls = ['Kate', 'Liza', 'Kira', 'Emma', 'Trisha']\n",
    "\n",
    "#boys = ['Peter', 'Alex', 'John', 'Arthur', 'Richard', 'Michael']\n",
    "#girls = ['Kate', 'Liza', 'Kira', 'Emma', 'Trisha']\n",
    "\n",
    "if len(boys) == len (girls):\n",
    "  boys = sorted(boys)\n",
    "  girls = sorted(girls)\n",
    "  i = 0\n",
    "  print(\"Идеальные пары:\\n\")\n",
    "  while i < len(boys): \n",
    "    print(f'{boys[i]} и {girls[i]}')\n",
    "    i += 1\n",
    "else: print('Внимание, кто-то может остаться без пары!')"
   ]
  },
  {
   "attachments": {},
   "cell_type": "markdown",
   "metadata": {},
   "source": [
    "Задание 3"
   ]
  },
  {
   "cell_type": "code",
   "execution_count": null,
   "metadata": {},
   "outputs": [],
   "source": [
    "\n",
    "print(\"Введите число\")\n",
    "digit = int(input())\n",
    "\n",
    "result = 0\n",
    "\n",
    "while digit != 0 : \n",
    "  result = result + digit \n",
    "  print(\"Введите число\")\n",
    "  digit = int(input())\n",
    "  \n",
    "print(\"Результат:\", result)"
   ]
  },
  {
   "attachments": {},
   "cell_type": "markdown",
   "metadata": {},
   "source": [
    "Задание 2"
   ]
  },
  {
   "cell_type": "code",
   "execution_count": null,
   "metadata": {},
   "outputs": [],
   "source": [
    "print(\"Введите слово\")\n",
    "word = input()\n",
    "\n",
    "middle = round(len(word) / 2)\n",
    "if middle % 2 == 0: print ('Результат:', word[middle-1:middle+1])\n",
    "else: print ('Результат:', word[middle])"
   ]
  },
  {
   "attachments": {},
   "cell_type": "markdown",
   "metadata": {},
   "source": [
    "Задание 1"
   ]
  },
  {
   "attachments": {},
   "cell_type": "markdown",
   "metadata": {},
   "source": [
    "##### Домашнее задание к лекции \"Введение в типы данных и циклы. Часть 1\""
   ]
  }
 ],
 "metadata": {
  "kernelspec": {
   "display_name": "Python 3",
   "language": "python",
   "name": "python3"
  },
  "language_info": {
   "name": "python",
   "version": "3.8.2 (default, Jun  8 2021, 11:59:35) \n[Clang 12.0.5 (clang-1205.0.22.11)]"
  },
  "orig_nbformat": 4,
  "vscode": {
   "interpreter": {
    "hash": "31f2aee4e71d21fbe5cf8b01ff0e069b9275f58929596ceb00d14d90e3e16cd6"
   }
  }
 },
 "nbformat": 4,
 "nbformat_minor": 2
}
